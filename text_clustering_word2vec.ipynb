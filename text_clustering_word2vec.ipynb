{
 "cells": [
  {
   "cell_type": "markdown",
   "id": "1825e136",
   "metadata": {},
   "source": [
    "#  Text Embedding using Word2Vec"
   ]
  },
  {
   "cell_type": "code",
   "execution_count": 115,
   "id": "a5849a1b",
   "metadata": {},
   "outputs": [],
   "source": [
    "# importing libraries\n",
    "import pandas as pd\n",
    "from smart_open import smart_open \n",
    "import gensim\n",
    "from gensim.models import Word2Vec"
   ]
  },
  {
   "cell_type": "code",
   "execution_count": 116,
   "id": "62047995",
   "metadata": {},
   "outputs": [
    {
     "name": "stdout",
     "output_type": "stream",
     "text": [
      "WARNING *** OLE2 inconsistency: SSCS size is 0 but SSAT size is non-zero\n"
     ]
    }
   ],
   "source": [
    "df = pd.read_excel(\"table1.xls\") # replace with your data"
   ]
  },
  {
   "cell_type": "code",
   "execution_count": 117,
   "id": "c24a0e1c",
   "metadata": {},
   "outputs": [
    {
     "data": {
      "text/html": [
       "<div>\n",
       "<style scoped>\n",
       "    .dataframe tbody tr th:only-of-type {\n",
       "        vertical-align: middle;\n",
       "    }\n",
       "\n",
       "    .dataframe tbody tr th {\n",
       "        vertical-align: top;\n",
       "    }\n",
       "\n",
       "    .dataframe thead th {\n",
       "        text-align: right;\n",
       "    }\n",
       "</style>\n",
       "<table border=\"1\" class=\"dataframe\">\n",
       "  <thead>\n",
       "    <tr style=\"text-align: right;\">\n",
       "      <th></th>\n",
       "      <th>DB_ID</th>\n",
       "      <th>rn</th>\n",
       "      <th>AccountDescriptiveName</th>\n",
       "      <th>Key_tblID</th>\n",
       "      <th>AdGroup_tblID</th>\n",
       "      <th>CampaignId</th>\n",
       "      <th>CampaignName</th>\n",
       "      <th>AdGroupId</th>\n",
       "      <th>AdGroupName</th>\n",
       "      <th>Id</th>\n",
       "      <th>...</th>\n",
       "      <th>calc_ROAS_SecondPrvValue</th>\n",
       "      <th>calc_ConversionSpend_SecondPrvValue</th>\n",
       "      <th>calc_WastedSpend_PrvValue</th>\n",
       "      <th>calc_Cost_PrvValue</th>\n",
       "      <th>calc_ROAS_PrvValue</th>\n",
       "      <th>calc_ConversionSpend_PrvValue</th>\n",
       "      <th>calc_WastedSpend_NextValue</th>\n",
       "      <th>calc_Cost_NextValue</th>\n",
       "      <th>calc_ROAS_NextValue</th>\n",
       "      <th>calc_ConversionSpend_NextValue</th>\n",
       "    </tr>\n",
       "  </thead>\n",
       "  <tbody>\n",
       "    <tr>\n",
       "      <th>0</th>\n",
       "      <td>NaN</td>\n",
       "      <td>86.0</td>\n",
       "      <td>Acero Southtown</td>\n",
       "      <td>2</td>\n",
       "      <td>2</td>\n",
       "      <td>10271431359</td>\n",
       "      <td>Apartments</td>\n",
       "      <td>103494291278</td>\n",
       "      <td>San Antonio</td>\n",
       "      <td>18641391</td>\n",
       "      <td>...</td>\n",
       "      <td>0.07845</td>\n",
       "      <td>2.0</td>\n",
       "      <td>78.0</td>\n",
       "      <td>80.11</td>\n",
       "      <td>0.07490</td>\n",
       "      <td>2.0</td>\n",
       "      <td>NaN</td>\n",
       "      <td>NaN</td>\n",
       "      <td>NaN</td>\n",
       "      <td>NaN</td>\n",
       "    </tr>\n",
       "    <tr>\n",
       "      <th>1</th>\n",
       "      <td>NaN</td>\n",
       "      <td>90.0</td>\n",
       "      <td>Acero Southtown</td>\n",
       "      <td>6</td>\n",
       "      <td>2</td>\n",
       "      <td>10271431359</td>\n",
       "      <td>Apartments</td>\n",
       "      <td>103494291278</td>\n",
       "      <td>San Antonio</td>\n",
       "      <td>88838372</td>\n",
       "      <td>...</td>\n",
       "      <td>0.02994</td>\n",
       "      <td>6.0</td>\n",
       "      <td>27.0</td>\n",
       "      <td>33.40</td>\n",
       "      <td>0.02994</td>\n",
       "      <td>6.0</td>\n",
       "      <td>NaN</td>\n",
       "      <td>NaN</td>\n",
       "      <td>NaN</td>\n",
       "      <td>NaN</td>\n",
       "    </tr>\n",
       "    <tr>\n",
       "      <th>2</th>\n",
       "      <td>NaN</td>\n",
       "      <td>66.0</td>\n",
       "      <td>Acero Southtown</td>\n",
       "      <td>4</td>\n",
       "      <td>2</td>\n",
       "      <td>10271431359</td>\n",
       "      <td>Apartments</td>\n",
       "      <td>103494291278</td>\n",
       "      <td>San Antonio</td>\n",
       "      <td>296744879271</td>\n",
       "      <td>...</td>\n",
       "      <td>0.00000</td>\n",
       "      <td>0.0</td>\n",
       "      <td>60.0</td>\n",
       "      <td>59.76</td>\n",
       "      <td>0.00000</td>\n",
       "      <td>0.0</td>\n",
       "      <td>NaN</td>\n",
       "      <td>NaN</td>\n",
       "      <td>NaN</td>\n",
       "      <td>NaN</td>\n",
       "    </tr>\n",
       "    <tr>\n",
       "      <th>3</th>\n",
       "      <td>NaN</td>\n",
       "      <td>79.0</td>\n",
       "      <td>Acero Southtown</td>\n",
       "      <td>8</td>\n",
       "      <td>8</td>\n",
       "      <td>10271431359</td>\n",
       "      <td>Apartments</td>\n",
       "      <td>107810692503</td>\n",
       "      <td>1 Bed</td>\n",
       "      <td>591588036</td>\n",
       "      <td>...</td>\n",
       "      <td>0.00000</td>\n",
       "      <td>0.0</td>\n",
       "      <td>5.0</td>\n",
       "      <td>5.34</td>\n",
       "      <td>0.00000</td>\n",
       "      <td>0.0</td>\n",
       "      <td>NaN</td>\n",
       "      <td>NaN</td>\n",
       "      <td>NaN</td>\n",
       "      <td>NaN</td>\n",
       "    </tr>\n",
       "    <tr>\n",
       "      <th>4</th>\n",
       "      <td>NaN</td>\n",
       "      <td>33.0</td>\n",
       "      <td>Acero Southtown</td>\n",
       "      <td>10</td>\n",
       "      <td>3</td>\n",
       "      <td>10271431362</td>\n",
       "      <td>Apartments - USA</td>\n",
       "      <td>103494291358</td>\n",
       "      <td>Apartments</td>\n",
       "      <td>322487472693</td>\n",
       "      <td>...</td>\n",
       "      <td>0.12391</td>\n",
       "      <td>27.0</td>\n",
       "      <td>89.0</td>\n",
       "      <td>119.60</td>\n",
       "      <td>0.12542</td>\n",
       "      <td>31.0</td>\n",
       "      <td>NaN</td>\n",
       "      <td>NaN</td>\n",
       "      <td>NaN</td>\n",
       "      <td>NaN</td>\n",
       "    </tr>\n",
       "  </tbody>\n",
       "</table>\n",
       "<p>5 rows × 145 columns</p>\n",
       "</div>"
      ],
      "text/plain": [
       "  DB_ID    rn AccountDescriptiveName  Key_tblID  AdGroup_tblID   CampaignId  \\\n",
       "0   NaN  86.0        Acero Southtown          2              2  10271431359   \n",
       "1   NaN  90.0        Acero Southtown          6              2  10271431359   \n",
       "2   NaN  66.0        Acero Southtown          4              2  10271431359   \n",
       "3   NaN  79.0        Acero Southtown          8              8  10271431359   \n",
       "4   NaN  33.0        Acero Southtown         10              3  10271431362   \n",
       "\n",
       "       CampaignName     AdGroupId  AdGroupName            Id  ...  \\\n",
       "0        Apartments  103494291278  San Antonio      18641391  ...   \n",
       "1        Apartments  103494291278  San Antonio      88838372  ...   \n",
       "2        Apartments  103494291278  San Antonio  296744879271  ...   \n",
       "3        Apartments  107810692503        1 Bed     591588036  ...   \n",
       "4  Apartments - USA  103494291358   Apartments  322487472693  ...   \n",
       "\n",
       "  calc_ROAS_SecondPrvValue calc_ConversionSpend_SecondPrvValue  \\\n",
       "0                  0.07845                                 2.0   \n",
       "1                  0.02994                                 6.0   \n",
       "2                  0.00000                                 0.0   \n",
       "3                  0.00000                                 0.0   \n",
       "4                  0.12391                                27.0   \n",
       "\n",
       "   calc_WastedSpend_PrvValue  calc_Cost_PrvValue  calc_ROAS_PrvValue  \\\n",
       "0                       78.0               80.11             0.07490   \n",
       "1                       27.0               33.40             0.02994   \n",
       "2                       60.0               59.76             0.00000   \n",
       "3                        5.0                5.34             0.00000   \n",
       "4                       89.0              119.60             0.12542   \n",
       "\n",
       "  calc_ConversionSpend_PrvValue calc_WastedSpend_NextValue  \\\n",
       "0                           2.0                        NaN   \n",
       "1                           6.0                        NaN   \n",
       "2                           0.0                        NaN   \n",
       "3                           0.0                        NaN   \n",
       "4                          31.0                        NaN   \n",
       "\n",
       "   calc_Cost_NextValue  calc_ROAS_NextValue  calc_ConversionSpend_NextValue  \n",
       "0                  NaN                  NaN                             NaN  \n",
       "1                  NaN                  NaN                             NaN  \n",
       "2                  NaN                  NaN                             NaN  \n",
       "3                  NaN                  NaN                             NaN  \n",
       "4                  NaN                  NaN                             NaN  \n",
       "\n",
       "[5 rows x 145 columns]"
      ]
     },
     "execution_count": 117,
     "metadata": {},
     "output_type": "execute_result"
    }
   ],
   "source": [
    "df.head()"
   ]
  },
  {
   "cell_type": "code",
   "execution_count": 136,
   "id": "124e52d9",
   "metadata": {},
   "outputs": [
    {
     "name": "stdout",
     "output_type": "stream",
     "text": [
      "                              CampaignName\n",
      "0                               Apartments\n",
      "1                               Apartments\n",
      "2                               Apartments\n",
      "3                               Apartments\n",
      "4                         Apartments - USA\n",
      "...                                    ...\n",
      "2689                           Competitors\n",
      "2690  PFC | Income-Restricted | Affordable\n",
      "2691  PFC | Income-Restricted | Affordable\n",
      "2692                            Apartments\n",
      "2693                           Competitors\n",
      "\n",
      "[2694 rows x 1 columns]\n"
     ]
    }
   ],
   "source": [
    "keywords = df[['CampaignName']]\n",
    "print(keywords)"
   ]
  },
  {
   "cell_type": "code",
   "execution_count": 119,
   "id": "0983a658",
   "metadata": {},
   "outputs": [],
   "source": [
    "keys= []\n",
    "for i in keywords['CampaignName']:\n",
    "    keys.append([i])\n",
    "    "
   ]
  },
  {
   "cell_type": "code",
   "execution_count": 120,
   "id": "3d7d5af4",
   "metadata": {},
   "outputs": [
    {
     "data": {
      "text/plain": [
       "2694"
      ]
     },
     "execution_count": 120,
     "metadata": {},
     "output_type": "execute_result"
    }
   ],
   "source": [
    "len(keys)"
   ]
  },
  {
   "cell_type": "code",
   "execution_count": 121,
   "id": "78672a3e",
   "metadata": {},
   "outputs": [],
   "source": [
    "model = Word2Vec(keys, min_count=1)"
   ]
  },
  {
   "cell_type": "code",
   "execution_count": 122,
   "id": "0692d0d2",
   "metadata": {},
   "outputs": [
    {
     "data": {
      "text/plain": [
       "['__class__',\n",
       " '__contains__',\n",
       " '__delattr__',\n",
       " '__dict__',\n",
       " '__dir__',\n",
       " '__doc__',\n",
       " '__eq__',\n",
       " '__format__',\n",
       " '__ge__',\n",
       " '__getattribute__',\n",
       " '__getitem__',\n",
       " '__gt__',\n",
       " '__hash__',\n",
       " '__init__',\n",
       " '__init_subclass__',\n",
       " '__le__',\n",
       " '__lt__',\n",
       " '__module__',\n",
       " '__ne__',\n",
       " '__new__',\n",
       " '__reduce__',\n",
       " '__reduce_ex__',\n",
       " '__repr__',\n",
       " '__setattr__',\n",
       " '__sizeof__',\n",
       " '__str__',\n",
       " '__subclasshook__',\n",
       " '__weakref__',\n",
       " '_adapt_by_suffix',\n",
       " '_check_input_data_sanity',\n",
       " '_check_training_sanity',\n",
       " '_clear_post_train',\n",
       " '_do_train_epoch',\n",
       " '_do_train_job',\n",
       " '_get_job_params',\n",
       " '_get_thread_working_mem',\n",
       " '_job_producer',\n",
       " '_load_specials',\n",
       " '_log_epoch_end',\n",
       " '_log_epoch_progress',\n",
       " '_log_progress',\n",
       " '_log_train_end',\n",
       " '_minimize_model',\n",
       " '_raw_word_count',\n",
       " '_save_specials',\n",
       " '_set_train_params',\n",
       " '_smart_save',\n",
       " '_train_epoch',\n",
       " '_train_epoch_corpusfile',\n",
       " '_update_job_params',\n",
       " '_worker_loop',\n",
       " '_worker_loop_corpusfile',\n",
       " 'accuracy',\n",
       " 'alpha',\n",
       " 'batch_words',\n",
       " 'build_vocab',\n",
       " 'build_vocab_from_freq',\n",
       " 'callbacks',\n",
       " 'cbow_mean',\n",
       " 'clear_sims',\n",
       " 'compute_loss',\n",
       " 'corpus_count',\n",
       " 'corpus_total_words',\n",
       " 'cum_table',\n",
       " 'delete_temporary_training_data',\n",
       " 'doesnt_match',\n",
       " 'epochs',\n",
       " 'estimate_memory',\n",
       " 'evaluate_word_pairs',\n",
       " 'get_latest_training_loss',\n",
       " 'hashfxn',\n",
       " 'hs',\n",
       " 'init_sims',\n",
       " 'intersect_word2vec_format',\n",
       " 'iter',\n",
       " 'layer1_size',\n",
       " 'load',\n",
       " 'load_word2vec_format',\n",
       " 'log_accuracy',\n",
       " 'max_final_vocab',\n",
       " 'min_alpha',\n",
       " 'min_alpha_yet_reached',\n",
       " 'min_count',\n",
       " 'model_trimmed_post_training',\n",
       " 'most_similar',\n",
       " 'most_similar_cosmul',\n",
       " 'n_similarity',\n",
       " 'negative',\n",
       " 'ns_exponent',\n",
       " 'predict_output_word',\n",
       " 'random',\n",
       " 'reset_from',\n",
       " 'running_training_loss',\n",
       " 'sample',\n",
       " 'save',\n",
       " 'save_word2vec_format',\n",
       " 'score',\n",
       " 'sg',\n",
       " 'similar_by_vector',\n",
       " 'similar_by_word',\n",
       " 'similarity',\n",
       " 'syn0_lockf',\n",
       " 'syn1',\n",
       " 'syn1neg',\n",
       " 'total_train_time',\n",
       " 'train',\n",
       " 'train_count',\n",
       " 'trainables',\n",
       " 'vector_size',\n",
       " 'vocabulary',\n",
       " 'window',\n",
       " 'wmdistance',\n",
       " 'workers',\n",
       " 'wv']"
      ]
     },
     "execution_count": 122,
     "metadata": {},
     "output_type": "execute_result"
    }
   ],
   "source": [
    "# print (model.most_similar(positive=['Apartments'], negative=[], topn=2))\n",
    "dir(model)"
   ]
  },
  {
   "cell_type": "code",
   "execution_count": 124,
   "id": "98a82c81",
   "metadata": {},
   "outputs": [
    {
     "name": "stdout",
     "output_type": "stream",
     "text": [
      "<gensim.models.word2vec.Word2VecVocab object at 0x0000022261538788>\n"
     ]
    }
   ],
   "source": [
    "print(model.vocabulary)"
   ]
  },
  {
   "cell_type": "code",
   "execution_count": 125,
   "id": "cbc68add",
   "metadata": {},
   "outputs": [],
   "source": [
    "a = list(model.wv.vocab)"
   ]
  },
  {
   "cell_type": "code",
   "execution_count": 126,
   "id": "7f6b9fce",
   "metadata": {},
   "outputs": [
    {
     "data": {
      "text/plain": [
       "['Apartments',\n",
       " 'Apartments - USA',\n",
       " 'Brand',\n",
       " 'Competitors',\n",
       " 'PFC | Income-Restricted | Affordable',\n",
       " 'Discovery']"
      ]
     },
     "execution_count": 126,
     "metadata": {},
     "output_type": "execute_result"
    }
   ],
   "source": [
    "a"
   ]
  },
  {
   "cell_type": "code",
   "execution_count": 127,
   "id": "962ed77f",
   "metadata": {},
   "outputs": [
    {
     "name": "stdout",
     "output_type": "stream",
     "text": [
      "[('Apartments', 0.10424113273620605), ('Discovery', 0.09154410660266876), ('Competitors', 0.005811331793665886), ('Brand', -0.0010487735271453857), ('PFC | Income-Restricted | Affordable', -0.12724624574184418)]\n"
     ]
    },
    {
     "name": "stderr",
     "output_type": "stream",
     "text": [
      "C:\\anaconda\\Anaconda3\\envs\\nlp_env\\lib\\site-packages\\ipykernel_launcher.py:1: DeprecationWarning: Call to deprecated `most_similar` (Method will be removed in 4.0.0, use self.wv.most_similar() instead).\n",
      "  \"\"\"Entry point for launching an IPython kernel.\n"
     ]
    }
   ],
   "source": [
    "print (model.most_similar(positive=['Apartments - USA'], negative=[], topn=10))"
   ]
  },
  {
   "cell_type": "code",
   "execution_count": 137,
   "id": "c86afe4c",
   "metadata": {},
   "outputs": [
    {
     "name": "stdout",
     "output_type": "stream",
     "text": [
      "-0.07893993\n"
     ]
    }
   ],
   "source": [
    "print (model.wv.similarity('Apartments','Competitors')) # Similarity score between two phrases/words"
   ]
  },
  {
   "cell_type": "code",
   "execution_count": 133,
   "id": "a68dbfe3",
   "metadata": {},
   "outputs": [
    {
     "name": "stdout",
     "output_type": "stream",
     "text": [
      "['Apartments', 'Apartments - USA', 'Brand', 'Competitors', 'PFC | Income-Restricted | Affordable', 'Discovery']\n"
     ]
    }
   ],
   "source": [
    "print ((list(model.wv.vocab))) # vocabulary list"
   ]
  },
  {
   "cell_type": "code",
   "execution_count": 130,
   "id": "de7cc3d5",
   "metadata": {},
   "outputs": [
    {
     "data": {
      "text/plain": [
       "100"
      ]
     },
     "execution_count": 130,
     "metadata": {},
     "output_type": "execute_result"
    }
   ],
   "source": [
    "model.vector_size"
   ]
  }
 ],
 "metadata": {
  "kernelspec": {
   "display_name": "nlp_env",
   "language": "python",
   "name": "nlp_env"
  },
  "language_info": {
   "codemirror_mode": {
    "name": "ipython",
    "version": 3
   },
   "file_extension": ".py",
   "mimetype": "text/x-python",
   "name": "python",
   "nbconvert_exporter": "python",
   "pygments_lexer": "ipython3",
   "version": "3.7.9"
  }
 },
 "nbformat": 4,
 "nbformat_minor": 5
}
